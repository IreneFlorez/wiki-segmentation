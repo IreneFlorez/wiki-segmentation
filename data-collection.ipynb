{
 "cells": [
  {
   "cell_type": "code",
   "execution_count": 18,
   "metadata": {},
   "outputs": [],
   "source": [
    "import pandas as pd\n",
    "import requests\n",
    "import re\n",
    "import json\n",
    "\n",
    "import wmfdata as wmf"
   ]
  },
  {
   "cell_type": "markdown",
   "metadata": {},
   "source": [
    "# List of wikis"
   ]
  },
  {
   "cell_type": "code",
   "execution_count": 2,
   "metadata": {},
   "outputs": [],
   "source": [
    "wikis = wmf.mariadb.run(\"\"\"\n",
    "select\n",
    "    site_global_key as code,\n",
    "    site_group as project,\n",
    "    site_language as language,\n",
    "    concat(\"https://\", trim(leading \".\" from reverse(site_domain))) as domain\n",
    "from enwiki.sites\n",
    "where site_group in (\n",
    "    'commons', 'incubator', 'foundation', 'mediawiki', 'meta', 'sources',\n",
    "    'species', 'wikibooks', 'wikidata', 'wikinews', 'wikipedia', 'wikiquote',\n",
    "    'wikisource', 'wikiversity', 'wikivoyage', 'wiktionary'\n",
    "    )\n",
    "\"\"\")"
   ]
  },
  {
   "cell_type": "code",
   "execution_count": 3,
   "metadata": {},
   "outputs": [
    {
     "data": {
      "text/html": [
       "<div>\n",
       "<style scoped>\n",
       "    .dataframe tbody tr th:only-of-type {\n",
       "        vertical-align: middle;\n",
       "    }\n",
       "\n",
       "    .dataframe tbody tr th {\n",
       "        vertical-align: top;\n",
       "    }\n",
       "\n",
       "    .dataframe thead th {\n",
       "        text-align: right;\n",
       "    }\n",
       "</style>\n",
       "<table border=\"1\" class=\"dataframe\">\n",
       "  <thead>\n",
       "    <tr style=\"text-align: right;\">\n",
       "      <th></th>\n",
       "      <th>code</th>\n",
       "      <th>project</th>\n",
       "      <th>language</th>\n",
       "      <th>domain</th>\n",
       "    </tr>\n",
       "  </thead>\n",
       "  <tbody>\n",
       "    <tr>\n",
       "      <th>0</th>\n",
       "      <td>aawiki</td>\n",
       "      <td>wikipedia</td>\n",
       "      <td>aa</td>\n",
       "      <td>https://aa.wikipedia.org</td>\n",
       "    </tr>\n",
       "    <tr>\n",
       "      <th>1</th>\n",
       "      <td>aawiktionary</td>\n",
       "      <td>wiktionary</td>\n",
       "      <td>aa</td>\n",
       "      <td>https://aa.wiktionary.org</td>\n",
       "    </tr>\n",
       "    <tr>\n",
       "      <th>2</th>\n",
       "      <td>aawikibooks</td>\n",
       "      <td>wikibooks</td>\n",
       "      <td>aa</td>\n",
       "      <td>https://aa.wikibooks.org</td>\n",
       "    </tr>\n",
       "    <tr>\n",
       "      <th>3</th>\n",
       "      <td>abwiki</td>\n",
       "      <td>wikipedia</td>\n",
       "      <td>ab</td>\n",
       "      <td>https://ab.wikipedia.org</td>\n",
       "    </tr>\n",
       "    <tr>\n",
       "      <th>4</th>\n",
       "      <td>abwiktionary</td>\n",
       "      <td>wiktionary</td>\n",
       "      <td>ab</td>\n",
       "      <td>https://ab.wiktionary.org</td>\n",
       "    </tr>\n",
       "    <tr>\n",
       "      <th>5</th>\n",
       "      <td>acewiki</td>\n",
       "      <td>wikipedia</td>\n",
       "      <td>ace</td>\n",
       "      <td>https://ace.wikipedia.org</td>\n",
       "    </tr>\n",
       "    <tr>\n",
       "      <th>6</th>\n",
       "      <td>afwiki</td>\n",
       "      <td>wikipedia</td>\n",
       "      <td>af</td>\n",
       "      <td>https://af.wikipedia.org</td>\n",
       "    </tr>\n",
       "    <tr>\n",
       "      <th>7</th>\n",
       "      <td>afwiktionary</td>\n",
       "      <td>wiktionary</td>\n",
       "      <td>af</td>\n",
       "      <td>https://af.wiktionary.org</td>\n",
       "    </tr>\n",
       "    <tr>\n",
       "      <th>8</th>\n",
       "      <td>afwikibooks</td>\n",
       "      <td>wikibooks</td>\n",
       "      <td>af</td>\n",
       "      <td>https://af.wikibooks.org</td>\n",
       "    </tr>\n",
       "    <tr>\n",
       "      <th>9</th>\n",
       "      <td>afwikiquote</td>\n",
       "      <td>wikiquote</td>\n",
       "      <td>af</td>\n",
       "      <td>https://af.wikiquote.org</td>\n",
       "    </tr>\n",
       "  </tbody>\n",
       "</table>\n",
       "</div>"
      ],
      "text/plain": [
       "           code     project language                     domain\n",
       "0        aawiki   wikipedia       aa   https://aa.wikipedia.org\n",
       "1  aawiktionary  wiktionary       aa  https://aa.wiktionary.org\n",
       "2   aawikibooks   wikibooks       aa   https://aa.wikibooks.org\n",
       "3        abwiki   wikipedia       ab   https://ab.wikipedia.org\n",
       "4  abwiktionary  wiktionary       ab  https://ab.wiktionary.org\n",
       "5       acewiki   wikipedia      ace  https://ace.wikipedia.org\n",
       "6        afwiki   wikipedia       af   https://af.wikipedia.org\n",
       "7  afwiktionary  wiktionary       af  https://af.wiktionary.org\n",
       "8   afwikibooks   wikibooks       af   https://af.wikibooks.org\n",
       "9   afwikiquote   wikiquote       af   https://af.wikiquote.org"
      ]
     },
     "execution_count": 3,
     "metadata": {},
     "output_type": "execute_result"
    }
   ],
   "source": [
    "wikis.head(10)"
   ]
  },
  {
   "cell_type": "code",
   "execution_count": 4,
   "metadata": {},
   "outputs": [],
   "source": [
    "urls = [\n",
    "    \"https://raw.githubusercontent.com/wikimedia/mediawiki-extensions-cldr/master/CldrNames/CldrNamesEn.php\",\n",
    "    \"https://raw.githubusercontent.com/wikimedia/mediawiki-extensions-cldr/master/LocalNames/LocalNamesEn.php\"\n",
    "]\n",
    "\n",
    "def get_lang_names(url):\n",
    "    r = requests.get(url)\n",
    "    m = re.search(r\"languageNames = (\\[[\\s\\S]+?\\])\", r.text)\n",
    "    php_ln = m.group(1)\n",
    "    \n",
    "    repl = [\n",
    "        # Convert from PHP array format to JSON\n",
    "        (\" =>\", \":\"),\n",
    "        (\"\\[\", \"{\"),\n",
    "        (\"\\]\", \"}\"),\n",
    "        # Trailing commas will cause problems\n",
    "        (\",\\n}\", \"\\n}\"),\n",
    "        # ...so will single quotes\n",
    "        (\"'\", '\"'),\n",
    "        # ...and comments\n",
    "        (r\"/\\*[\\s\\S]*?\\*/\", \"\"),\n",
    "        (r\"#(.*?)\\n\", \"\"),\n",
    "        # One hack to deal with a single quote in a language name\n",
    "        ('O\"odham', \"O'odham\")\n",
    "    ]\n",
    "    \n",
    "    json_ln = php_ln\n",
    "    for old, new in repl:\n",
    "        json_ln = re.sub(old, new, json_ln)\n",
    "    \n",
    "    py_ln = json.loads(json_ln)\n",
    "    return py_ln\n",
    "\n",
    "langs = {}\n",
    "for url in urls:\n",
    "    langs.update(get_lang_names(url))"
   ]
  },
  {
   "cell_type": "code",
   "execution_count": 5,
   "metadata": {},
   "outputs": [],
   "source": [
    "# Add languages not included in the CLDR files\n",
    "langs.update({\n",
    "    \"als\": \"Tosk\",\n",
    "    \"atj\": \"Atikamekw\",\n",
    "    \"diq\": \"Zazaki\",\n",
    "    \"fiu-vro\": \"Võro\",\n",
    "    \"map-bms\": \"Banyumasan\",\n",
    "    \"nah\": \"Nahuatl\",\n",
    "    \"pih\": \"Norfuk-Pitkern\",\n",
    "    \"rmy\": \"Vlax Romani\",\n",
    "    \"simple\": \"Simple English\"\n",
    "})"
   ]
  },
  {
   "cell_type": "code",
   "execution_count": 6,
   "metadata": {},
   "outputs": [],
   "source": [
    "nonstandard_projects = {\n",
    "    \"commons\": \"Wikimedia Commons\",\n",
    "    \"foundation\": \"Wikimedia Foundation website\",\n",
    "    \"mediawiki\": \"MediaWiki.org\",\n",
    "    \"meta\": \"Meta-Wiki\",\n",
    "    \"sources\": \"Multilingual Wikisource\",\n",
    "    \"species\": \"Wikispecies\",\n",
    "    \"wikidata\": \"Wikidata\"\n",
    "}\n",
    "\n",
    "def full_name(row):\n",
    "    project = row.loc[\"project\"]\n",
    "    nonstandard = nonstandard_projects.get(project)\n",
    "    \n",
    "    if nonstandard:\n",
    "        return nonstandard\n",
    "    else:\n",
    "        lang = row[\"language\"]\n",
    "        lang = langs[lang]\n",
    "        project = project.title()\n",
    "        return \" \".join([lang, project])\n",
    "\n",
    "wikis[\"name\"] = wikis.apply(full_name, axis=1)"
   ]
  },
  {
   "cell_type": "code",
   "execution_count": 7,
   "metadata": {},
   "outputs": [
    {
     "data": {
      "text/html": [
       "<div>\n",
       "<style scoped>\n",
       "    .dataframe tbody tr th:only-of-type {\n",
       "        vertical-align: middle;\n",
       "    }\n",
       "\n",
       "    .dataframe tbody tr th {\n",
       "        vertical-align: top;\n",
       "    }\n",
       "\n",
       "    .dataframe thead th {\n",
       "        text-align: right;\n",
       "    }\n",
       "</style>\n",
       "<table border=\"1\" class=\"dataframe\">\n",
       "  <thead>\n",
       "    <tr style=\"text-align: right;\">\n",
       "      <th></th>\n",
       "      <th>code</th>\n",
       "      <th>project</th>\n",
       "      <th>language</th>\n",
       "      <th>domain</th>\n",
       "      <th>name</th>\n",
       "    </tr>\n",
       "  </thead>\n",
       "  <tbody>\n",
       "    <tr>\n",
       "      <th>0</th>\n",
       "      <td>aawiki</td>\n",
       "      <td>wikipedia</td>\n",
       "      <td>aa</td>\n",
       "      <td>https://aa.wikipedia.org</td>\n",
       "      <td>Afar Wikipedia</td>\n",
       "    </tr>\n",
       "    <tr>\n",
       "      <th>1</th>\n",
       "      <td>aawiktionary</td>\n",
       "      <td>wiktionary</td>\n",
       "      <td>aa</td>\n",
       "      <td>https://aa.wiktionary.org</td>\n",
       "      <td>Afar Wiktionary</td>\n",
       "    </tr>\n",
       "    <tr>\n",
       "      <th>2</th>\n",
       "      <td>aawikibooks</td>\n",
       "      <td>wikibooks</td>\n",
       "      <td>aa</td>\n",
       "      <td>https://aa.wikibooks.org</td>\n",
       "      <td>Afar Wikibooks</td>\n",
       "    </tr>\n",
       "    <tr>\n",
       "      <th>3</th>\n",
       "      <td>abwiki</td>\n",
       "      <td>wikipedia</td>\n",
       "      <td>ab</td>\n",
       "      <td>https://ab.wikipedia.org</td>\n",
       "      <td>Abkhazian Wikipedia</td>\n",
       "    </tr>\n",
       "    <tr>\n",
       "      <th>4</th>\n",
       "      <td>abwiktionary</td>\n",
       "      <td>wiktionary</td>\n",
       "      <td>ab</td>\n",
       "      <td>https://ab.wiktionary.org</td>\n",
       "      <td>Abkhazian Wiktionary</td>\n",
       "    </tr>\n",
       "  </tbody>\n",
       "</table>\n",
       "</div>"
      ],
      "text/plain": [
       "           code     project language                     domain  \\\n",
       "0        aawiki   wikipedia       aa   https://aa.wikipedia.org   \n",
       "1  aawiktionary  wiktionary       aa  https://aa.wiktionary.org   \n",
       "2   aawikibooks   wikibooks       aa   https://aa.wikibooks.org   \n",
       "3        abwiki   wikipedia       ab   https://ab.wikipedia.org   \n",
       "4  abwiktionary  wiktionary       ab  https://ab.wiktionary.org   \n",
       "\n",
       "                   name  \n",
       "0        Afar Wikipedia  \n",
       "1       Afar Wiktionary  \n",
       "2        Afar Wikibooks  \n",
       "3   Abkhazian Wikipedia  \n",
       "4  Abkhazian Wiktionary  "
      ]
     },
     "execution_count": 7,
     "metadata": {},
     "output_type": "execute_result"
    }
   ],
   "source": [
    "wikis.head()"
   ]
  },
  {
   "cell_type": "code",
   "execution_count": 8,
   "metadata": {},
   "outputs": [],
   "source": [
    "wikis = wikis.sort_values(\"name\").reset_index(drop=True)"
   ]
  },
  {
   "cell_type": "code",
   "execution_count": 9,
   "metadata": {},
   "outputs": [],
   "source": [
    "wikis.to_csv(\"data/wikis.tsv\", sep=\"\\t\", index=False)"
   ]
  },
  {
   "cell_type": "markdown",
   "metadata": {},
   "source": [
    "# Data"
   ]
  },
  {
   "cell_type": "code",
   "execution_count": 10,
   "metadata": {},
   "outputs": [],
   "source": [
    "data = wikis.copy().rename(columns={\"code\": \"wiki\"})"
   ]
  },
  {
   "cell_type": "markdown",
   "metadata": {},
   "source": [
    "## New editor retention"
   ]
  },
  {
   "cell_type": "code",
   "execution_count": null,
   "metadata": {},
   "outputs": [],
   "source": [
    "with open(\"queries/new_editor_retention.hql\") as f:\n",
    "    q = f.read()\n",
    "\n",
    "ner = wmf.hive.run(\n",
    "    q.format(start = \"2017-04\", end = \"2018-04\")\n",
    ")"
   ]
  },
  {
   "cell_type": "code",
   "execution_count": null,
   "metadata": {},
   "outputs": [],
   "source": [
    "ner.tail()"
   ]
  },
  {
   "cell_type": "code",
   "execution_count": null,
   "metadata": {},
   "outputs": [],
   "source": [
    "data = pd.merge(data, ner, how=\"left\", on=\"wiki\")"
   ]
  },
  {
   "cell_type": "markdown",
   "metadata": {},
   "source": [
    "## Monthly active editors"
   ]
  },
  {
   "cell_type": "code",
   "execution_count": null,
   "metadata": {},
   "outputs": [],
   "source": [
    "mae = wmf.mariadb.run(\"\"\"\n",
    "select\n",
    "    wiki,\n",
    "    count(*) / 12 as monthly_active_editors,\n",
    "    sum(\n",
    "        extract(year_month from user_registration) = extract(year_month from month)\n",
    "    ) / 12 as monthly_new_active_editors\n",
    "from editor_month\n",
    "where\n",
    "    content_edits >= 5 and\n",
    "    month >= \"{start}\" and\n",
    "    month < \"{end}\" and\n",
    "    local_user_id != 0 and\n",
    "    bot_flag = 0 and (\n",
    "        convert(user_name using utf8) not regexp \"bot\\\\\\\\b\" or\n",
    "        convert(user_name using utf8) in (\"Paucabot\", \"Niabot\", \"Marbot\")    \n",
    "    )\n",
    "group by wiki;\n",
    "\"\"\".format(start=\"2017-06-01\", end=\"2018-06-01\"))"
   ]
  },
  {
   "cell_type": "code",
   "execution_count": null,
   "metadata": {},
   "outputs": [],
   "source": [
    "mae.tail()"
   ]
  },
  {
   "cell_type": "code",
   "execution_count": null,
   "metadata": {},
   "outputs": [],
   "source": [
    "data = pd.merge(data, mae, how=\"left\", on=\"wiki\")"
   ]
  },
  {
   "cell_type": "markdown",
   "metadata": {},
   "source": [
    "## Monthly unique devices"
   ]
  },
  {
   "cell_type": "code",
   "execution_count": null,
   "metadata": {},
   "outputs": [],
   "source": [
    "mud = wmf.hive.run(\"\"\"\n",
    "select\n",
    "    regexp_replace(\n",
    "        regexp_replace(\n",
    "            regexp_replace(domain, \"zero\\\\\\\\.\", \"\"),\n",
    "        '^m\\\\\\\\.', ''),\n",
    "    '\\\\\\\\.m\\\\\\\\.', '.') as domain,\n",
    "  sum(uniques_estimate) / 12 as monthly_unique_devices\n",
    "FROM wmf.unique_devices_per_domain_monthly\n",
    "WHERE \n",
    "    concat(year, month) >= \"201706\" and\n",
    "    concat(year, month) < \"201806\"\n",
    "group by    \n",
    "    regexp_replace(\n",
    "        regexp_replace(\n",
    "            regexp_replace(domain, \"zero\\\\\\\\.\", \"\"),\n",
    "        '^m\\\\\\\\.', ''),\n",
    "    '\\\\\\\\.m\\\\\\\\.', '.')\n",
    "\"\"\")\n",
    "\n",
    "mud[\"domain\"] = \"https://\" + mud[\"domain\"]"
   ]
  },
  {
   "cell_type": "code",
   "execution_count": null,
   "metadata": {},
   "outputs": [],
   "source": [
    "mud.sample(25)"
   ]
  },
  {
   "cell_type": "code",
   "execution_count": null,
   "metadata": {},
   "outputs": [],
   "source": [
    "data = pd.merge(data, mud, how=\"left\", on=\"domain\")"
   ]
  },
  {
   "cell_type": "markdown",
   "metadata": {},
   "source": [
    "## Mobile editing"
   ]
  },
  {
   "cell_type": "code",
   "execution_count": null,
   "metadata": {},
   "outputs": [],
   "source": [
    "mep = wmf.mariadb.run(\"\"\"\n",
    "    select \n",
    "        wiki,\n",
    "        sum(mobile_web_edits + mobile_app_edits) / sum(edits) as mobile_editing_proportion\n",
    "    from staging.editor_month\n",
    "    where\n",
    "        month >= \"{start}\" and\n",
    "        month < \"{end}\" and\n",
    "        -- A user is a bot if they have a matching name or have the bot flag on *any* wiki\n",
    "        -- See https://meta.wikimedia.org/wiki/Research:Active_editor and https://meta.wikimedia.org/wiki/Research:Bot_user\n",
    "        bot_flag = 0 and (\n",
    "            -- Convert from BINARY to CHAR so that case-insentive regexes work\n",
    "            convert(user_name using utf8) not regexp \"bot\\\\\\\\b\" or\n",
    "            convert(user_name using utf8) in (\"Paucabot\", \"Niabot\", \"Marbot\")    \n",
    "        )\n",
    "    group by wiki;\n",
    "\"\"\".format(start=\"2017-06-01\", end=\"2018-06-01\"))"
   ]
  },
  {
   "cell_type": "code",
   "execution_count": null,
   "metadata": {},
   "outputs": [],
   "source": [
    "mep.tail()"
   ]
  },
  {
   "cell_type": "code",
   "execution_count": null,
   "metadata": {},
   "outputs": [],
   "source": [
    "data = pd.merge(data, mep, how=\"left\", on=\"wiki\")"
   ]
  },
  {
   "cell_type": "markdown",
   "metadata": {},
   "source": [
    "## Bot editing"
   ]
  },
  {
   "cell_type": "code",
   "execution_count": null,
   "metadata": {},
   "outputs": [],
   "source": [
    "bep = wmf.mariadb.run(\"\"\"\n",
    "    select \n",
    "        wiki,\n",
    "        sum(\n",
    "            if(\n",
    "                bot_flag = 1 or convert(user_name using utf8) regexp \"bot\\\\\\\\b\", \n",
    "                edits,\n",
    "                0\n",
    "            )\n",
    "        ) / sum(edits) as bot_editing_proportion\n",
    "    from staging.editor_month\n",
    "    where\n",
    "        month >= \"{start}\" and\n",
    "        month < \"{end}\"\n",
    "    group by wiki;\n",
    "\"\"\".format(start=\"2017-06-01\", end=\"2018-06-01\"))"
   ]
  },
  {
   "cell_type": "code",
   "execution_count": null,
   "metadata": {},
   "outputs": [],
   "source": [
    "bep.tail()"
   ]
  },
  {
   "cell_type": "code",
   "execution_count": null,
   "metadata": {},
   "outputs": [],
   "source": [
    "data = pd.merge(data, bep, how=\"left\", on=\"wiki\")"
   ]
  },
  {
   "cell_type": "markdown",
   "metadata": {},
   "source": [
    "## Revert rate"
   ]
  },
  {
   "cell_type": "code",
   "execution_count": null,
   "metadata": {},
   "outputs": [],
   "source": [
    "rr = wmf.hive.run(\"\"\"\n",
    "    select\n",
    "        wiki_db as wiki,\n",
    "        sum(cast(revision_is_identity_reverted as int)) / count(*) as revert_rate\n",
    "    from\n",
    "        wmf.mediawiki_history\n",
    "    where\n",
    "        event_entity = \"revision\" and\n",
    "        event_type = \"create\" and\n",
    "        snapshot = \"{snapshot}\" and\n",
    "        event_timestamp >= \"{start}\" and\n",
    "        event_timestamp < \"{end}\" and\n",
    "        event_user_is_bot_by_name = false and\n",
    "        array_contains(event_user_groups, \"bot\") = false\n",
    "    group by wiki_db\n",
    "\"\"\".format(snapshot=\"2018-05\", start=\"2017-06\", end=\"2018-06\")\n",
    ")"
   ]
  },
  {
   "cell_type": "code",
   "execution_count": null,
   "metadata": {},
   "outputs": [],
   "source": [
    "rr.tail()"
   ]
  },
  {
   "cell_type": "code",
   "execution_count": null,
   "metadata": {},
   "outputs": [],
   "source": [
    "data = pd.merge(data, rr, how=\"left\", on=\"wiki\")"
   ]
  },
  {
   "cell_type": "markdown",
   "metadata": {},
   "source": [
    "## Anonymous editing proportion"
   ]
  },
  {
   "cell_type": "code",
   "execution_count": null,
   "metadata": {},
   "outputs": [],
   "source": [
    "aep = wmf.mariadb.run(\"\"\"\n",
    "    select \n",
    "        wiki,\n",
    "        sum(if(local_user_id = 0, edits, 0)) / sum(edits) as anonymous_editing_proportion\n",
    "    from staging.editor_month\n",
    "    where\n",
    "        month >= \"{start}\" and\n",
    "        month < \"{end}\" and\n",
    "        -- A user is a bot if they have a matching name or have the bot flag on *any* wiki\n",
    "        -- See https://meta.wikimedia.org/wiki/Research:Active_editor and https://meta.wikimedia.org/wiki/Research:Bot_user\n",
    "        bot_flag = 0 and (\n",
    "            -- Convert from BINARY to CHAR so that case-insentive regexes work\n",
    "            convert(user_name using utf8) not regexp \"bot\\\\\\\\b\" or\n",
    "            convert(user_name using utf8) in (\"Paucabot\", \"Niabot\", \"Marbot\")    \n",
    "        )\n",
    "    group by wiki;\n",
    "\"\"\".format(start=\"2017-06-01\", end=\"2018-06-01\"))"
   ]
  },
  {
   "cell_type": "code",
   "execution_count": null,
   "metadata": {},
   "outputs": [],
   "source": [
    "aep.tail()"
   ]
  },
  {
   "cell_type": "code",
   "execution_count": null,
   "metadata": {},
   "outputs": [],
   "source": [
    "aep = pd.merge(data, rr, how=\"left\", on=\"wiki\")"
   ]
  },
  {
   "cell_type": "markdown",
   "metadata": {},
   "source": [
    "## Monthly active administrators"
   ]
  },
  {
   "cell_type": "code",
   "execution_count": 17,
   "metadata": {},
   "outputs": [],
   "source": [
    "mae = wmf.hive.run(\"\"\"\n",
    "    select \n",
    "        wiki,\n",
    "        sum(monthly_active_administrators) / 12 as monthly_active_administrators\n",
    "    from (\n",
    "        select\n",
    "            wiki_db as wiki,\n",
    "            substr(log_timestamp, 1, 6) as month,\n",
    "            count(distinct log_user) as monthly_active_administrators\n",
    "        from wmf_raw.mediawiki_logging\n",
    "        where\n",
    "            log_type in (\"block\", \"protect\", \"delete\", \"rights\") and\n",
    "            log_timestamp >= \"{start}\" and\n",
    "            log_timestamp < \"{end}\" and\n",
    "            snapshot = \"{snapshot}\"\n",
    "        group by wiki_db, substr(log_timestamp, 1, 6)\n",
    "    ) mae\n",
    "    group by wiki\n",
    "\"\"\".format(start=\"201706\", end=\"201806\", snapshot=\"201805\"))"
   ]
  },
  {
   "cell_type": "markdown",
   "metadata": {},
   "source": [
    "# Readying for spreadsheet"
   ]
  },
  {
   "cell_type": "code",
   "execution_count": null,
   "metadata": {},
   "outputs": [],
   "source": [
    "data = data.sort_values(\"name\").fillna(0)\n",
    "\n",
    "def print_ser(ser):\n",
    "    for val in ser.values:\n",
    "        print(val)"
   ]
  },
  {
   "cell_type": "code",
   "execution_count": null,
   "metadata": {},
   "outputs": [],
   "source": [
    "print_ser(data[\"revert_rate\"])"
   ]
  },
  {
   "cell_type": "code",
   "execution_count": null,
   "metadata": {},
   "outputs": [],
   "source": []
  }
 ],
 "metadata": {
  "kernelspec": {
   "display_name": "Python 3",
   "language": "python",
   "name": "python3"
  },
  "language_info": {
   "codemirror_mode": {
    "name": "ipython",
    "version": 3
   },
   "file_extension": ".py",
   "mimetype": "text/x-python",
   "name": "python",
   "nbconvert_exporter": "python",
   "pygments_lexer": "ipython3",
   "version": "3.5.3"
  }
 },
 "nbformat": 4,
 "nbformat_minor": 2
}
